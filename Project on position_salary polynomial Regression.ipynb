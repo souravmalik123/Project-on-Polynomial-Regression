{
 "cells": [
  {
   "cell_type": "markdown",
   "id": "c2b9de31",
   "metadata": {},
   "source": [
    "Importing the libraries"
   ]
  },
  {
   "cell_type": "code",
   "execution_count": 1,
   "id": "d7f7dff6",
   "metadata": {},
   "outputs": [],
   "source": [
    "import pandas as pd\n",
    "import numpy as np\n",
    "import matplotlib.pyplot as plt\n",
    "import seaborn as sns\n",
    "from sklearn.model_selection import train_test_split\n",
    "from sklearn.linear_model import LinearRegression\n",
    "from sklearn.preprocessing import PolynomialFeatures\n",
    "from sklearn.metrics import r2_score"
   ]
  },
  {
   "cell_type": "markdown",
   "id": "5d5699ec",
   "metadata": {},
   "source": [
    "Load the Dataset"
   ]
  },
  {
   "cell_type": "code",
   "execution_count": 2,
   "id": "c903cec4",
   "metadata": {},
   "outputs": [],
   "source": [
    "salary_data = pd.read_csv(\"Position_Salaries.csv\")"
   ]
  },
  {
   "cell_type": "markdown",
   "id": "b5fd73a7",
   "metadata": {},
   "source": [
    "Print first 5 Rows "
   ]
  },
  {
   "cell_type": "code",
   "execution_count": 3,
   "id": "a35c4a45",
   "metadata": {},
   "outputs": [
    {
     "data": {
      "text/html": [
       "<div>\n",
       "<style scoped>\n",
       "    .dataframe tbody tr th:only-of-type {\n",
       "        vertical-align: middle;\n",
       "    }\n",
       "\n",
       "    .dataframe tbody tr th {\n",
       "        vertical-align: top;\n",
       "    }\n",
       "\n",
       "    .dataframe thead th {\n",
       "        text-align: right;\n",
       "    }\n",
       "</style>\n",
       "<table border=\"1\" class=\"dataframe\">\n",
       "  <thead>\n",
       "    <tr style=\"text-align: right;\">\n",
       "      <th></th>\n",
       "      <th>Position</th>\n",
       "      <th>Level</th>\n",
       "      <th>Salary</th>\n",
       "    </tr>\n",
       "  </thead>\n",
       "  <tbody>\n",
       "    <tr>\n",
       "      <th>0</th>\n",
       "      <td>Business Analyst</td>\n",
       "      <td>1</td>\n",
       "      <td>45000</td>\n",
       "    </tr>\n",
       "    <tr>\n",
       "      <th>1</th>\n",
       "      <td>Junior Consultant</td>\n",
       "      <td>2</td>\n",
       "      <td>50000</td>\n",
       "    </tr>\n",
       "    <tr>\n",
       "      <th>2</th>\n",
       "      <td>Senior Consultant</td>\n",
       "      <td>3</td>\n",
       "      <td>60000</td>\n",
       "    </tr>\n",
       "    <tr>\n",
       "      <th>3</th>\n",
       "      <td>Manager</td>\n",
       "      <td>4</td>\n",
       "      <td>80000</td>\n",
       "    </tr>\n",
       "    <tr>\n",
       "      <th>4</th>\n",
       "      <td>Country Manager</td>\n",
       "      <td>5</td>\n",
       "      <td>110000</td>\n",
       "    </tr>\n",
       "  </tbody>\n",
       "</table>\n",
       "</div>"
      ],
      "text/plain": [
       "            Position  Level  Salary\n",
       "0   Business Analyst      1   45000\n",
       "1  Junior Consultant      2   50000\n",
       "2  Senior Consultant      3   60000\n",
       "3            Manager      4   80000\n",
       "4    Country Manager      5  110000"
      ]
     },
     "execution_count": 3,
     "metadata": {},
     "output_type": "execute_result"
    }
   ],
   "source": [
    "salary_data.head()"
   ]
  },
  {
   "cell_type": "markdown",
   "id": "ab16e276",
   "metadata": {},
   "source": [
    "Number of Rows & Columns"
   ]
  },
  {
   "cell_type": "code",
   "execution_count": 4,
   "id": "e0661ad3",
   "metadata": {},
   "outputs": [
    {
     "data": {
      "text/plain": [
       "(10, 3)"
      ]
     },
     "execution_count": 4,
     "metadata": {},
     "output_type": "execute_result"
    }
   ],
   "source": [
    "salary_data.shape"
   ]
  },
  {
   "cell_type": "markdown",
   "id": "7d8b41b7",
   "metadata": {},
   "source": [
    "We have just droped the column position from the main dataset as it is column level all ready have unique value of each position"
   ]
  },
  {
   "cell_type": "code",
   "execution_count": 5,
   "id": "0b710ae9",
   "metadata": {},
   "outputs": [],
   "source": [
    "salary_data.drop(columns=\"Position\",axis=1,inplace=True)"
   ]
  },
  {
   "cell_type": "code",
   "execution_count": 6,
   "id": "a86bc21f",
   "metadata": {},
   "outputs": [
    {
     "data": {
      "text/html": [
       "<div>\n",
       "<style scoped>\n",
       "    .dataframe tbody tr th:only-of-type {\n",
       "        vertical-align: middle;\n",
       "    }\n",
       "\n",
       "    .dataframe tbody tr th {\n",
       "        vertical-align: top;\n",
       "    }\n",
       "\n",
       "    .dataframe thead th {\n",
       "        text-align: right;\n",
       "    }\n",
       "</style>\n",
       "<table border=\"1\" class=\"dataframe\">\n",
       "  <thead>\n",
       "    <tr style=\"text-align: right;\">\n",
       "      <th></th>\n",
       "      <th>Level</th>\n",
       "      <th>Salary</th>\n",
       "    </tr>\n",
       "  </thead>\n",
       "  <tbody>\n",
       "    <tr>\n",
       "      <th>0</th>\n",
       "      <td>1</td>\n",
       "      <td>45000</td>\n",
       "    </tr>\n",
       "    <tr>\n",
       "      <th>1</th>\n",
       "      <td>2</td>\n",
       "      <td>50000</td>\n",
       "    </tr>\n",
       "    <tr>\n",
       "      <th>2</th>\n",
       "      <td>3</td>\n",
       "      <td>60000</td>\n",
       "    </tr>\n",
       "    <tr>\n",
       "      <th>3</th>\n",
       "      <td>4</td>\n",
       "      <td>80000</td>\n",
       "    </tr>\n",
       "    <tr>\n",
       "      <th>4</th>\n",
       "      <td>5</td>\n",
       "      <td>110000</td>\n",
       "    </tr>\n",
       "    <tr>\n",
       "      <th>5</th>\n",
       "      <td>6</td>\n",
       "      <td>150000</td>\n",
       "    </tr>\n",
       "    <tr>\n",
       "      <th>6</th>\n",
       "      <td>7</td>\n",
       "      <td>200000</td>\n",
       "    </tr>\n",
       "    <tr>\n",
       "      <th>7</th>\n",
       "      <td>8</td>\n",
       "      <td>300000</td>\n",
       "    </tr>\n",
       "    <tr>\n",
       "      <th>8</th>\n",
       "      <td>9</td>\n",
       "      <td>500000</td>\n",
       "    </tr>\n",
       "    <tr>\n",
       "      <th>9</th>\n",
       "      <td>10</td>\n",
       "      <td>1000000</td>\n",
       "    </tr>\n",
       "  </tbody>\n",
       "</table>\n",
       "</div>"
      ],
      "text/plain": [
       "   Level   Salary\n",
       "0      1    45000\n",
       "1      2    50000\n",
       "2      3    60000\n",
       "3      4    80000\n",
       "4      5   110000\n",
       "5      6   150000\n",
       "6      7   200000\n",
       "7      8   300000\n",
       "8      9   500000\n",
       "9     10  1000000"
      ]
     },
     "execution_count": 6,
     "metadata": {},
     "output_type": "execute_result"
    }
   ],
   "source": [
    "salary_data"
   ]
  },
  {
   "cell_type": "markdown",
   "id": "1342f18f",
   "metadata": {},
   "source": [
    "Spliting the data into feature & Target"
   ]
  },
  {
   "cell_type": "code",
   "execution_count": 7,
   "id": "96aa7667",
   "metadata": {},
   "outputs": [],
   "source": [
    "x = salary_data[\"Level\"].values.reshape(-1,1)\n",
    "y = salary_data[\"Salary\"].values.reshape(-1,1)"
   ]
  },
  {
   "cell_type": "code",
   "execution_count": 8,
   "id": "09df1a43",
   "metadata": {},
   "outputs": [
    {
     "name": "stdout",
     "output_type": "stream",
     "text": [
      "[[ 1]\n",
      " [ 2]\n",
      " [ 3]\n",
      " [ 4]\n",
      " [ 5]\n",
      " [ 6]\n",
      " [ 7]\n",
      " [ 8]\n",
      " [ 9]\n",
      " [10]]\n"
     ]
    }
   ],
   "source": [
    "print(x)"
   ]
  },
  {
   "cell_type": "code",
   "execution_count": 9,
   "id": "ee3ad1c5",
   "metadata": {},
   "outputs": [
    {
     "name": "stdout",
     "output_type": "stream",
     "text": [
      "[[  45000]\n",
      " [  50000]\n",
      " [  60000]\n",
      " [  80000]\n",
      " [ 110000]\n",
      " [ 150000]\n",
      " [ 200000]\n",
      " [ 300000]\n",
      " [ 500000]\n",
      " [1000000]]\n"
     ]
    }
   ],
   "source": [
    "print(y)"
   ]
  },
  {
   "cell_type": "markdown",
   "id": "5eeb9fdf",
   "metadata": {},
   "source": [
    "Some Statistical measures "
   ]
  },
  {
   "cell_type": "code",
   "execution_count": 10,
   "id": "4e5f727a",
   "metadata": {},
   "outputs": [
    {
     "data": {
      "text/html": [
       "<div>\n",
       "<style scoped>\n",
       "    .dataframe tbody tr th:only-of-type {\n",
       "        vertical-align: middle;\n",
       "    }\n",
       "\n",
       "    .dataframe tbody tr th {\n",
       "        vertical-align: top;\n",
       "    }\n",
       "\n",
       "    .dataframe thead th {\n",
       "        text-align: right;\n",
       "    }\n",
       "</style>\n",
       "<table border=\"1\" class=\"dataframe\">\n",
       "  <thead>\n",
       "    <tr style=\"text-align: right;\">\n",
       "      <th></th>\n",
       "      <th>Level</th>\n",
       "      <th>Salary</th>\n",
       "    </tr>\n",
       "  </thead>\n",
       "  <tbody>\n",
       "    <tr>\n",
       "      <th>count</th>\n",
       "      <td>10.00000</td>\n",
       "      <td>10.000000</td>\n",
       "    </tr>\n",
       "    <tr>\n",
       "      <th>mean</th>\n",
       "      <td>5.50000</td>\n",
       "      <td>249500.000000</td>\n",
       "    </tr>\n",
       "    <tr>\n",
       "      <th>std</th>\n",
       "      <td>3.02765</td>\n",
       "      <td>299373.883668</td>\n",
       "    </tr>\n",
       "    <tr>\n",
       "      <th>min</th>\n",
       "      <td>1.00000</td>\n",
       "      <td>45000.000000</td>\n",
       "    </tr>\n",
       "    <tr>\n",
       "      <th>25%</th>\n",
       "      <td>3.25000</td>\n",
       "      <td>65000.000000</td>\n",
       "    </tr>\n",
       "    <tr>\n",
       "      <th>50%</th>\n",
       "      <td>5.50000</td>\n",
       "      <td>130000.000000</td>\n",
       "    </tr>\n",
       "    <tr>\n",
       "      <th>75%</th>\n",
       "      <td>7.75000</td>\n",
       "      <td>275000.000000</td>\n",
       "    </tr>\n",
       "    <tr>\n",
       "      <th>max</th>\n",
       "      <td>10.00000</td>\n",
       "      <td>1000000.000000</td>\n",
       "    </tr>\n",
       "  </tbody>\n",
       "</table>\n",
       "</div>"
      ],
      "text/plain": [
       "          Level          Salary\n",
       "count  10.00000       10.000000\n",
       "mean    5.50000   249500.000000\n",
       "std     3.02765   299373.883668\n",
       "min     1.00000    45000.000000\n",
       "25%     3.25000    65000.000000\n",
       "50%     5.50000   130000.000000\n",
       "75%     7.75000   275000.000000\n",
       "max    10.00000  1000000.000000"
      ]
     },
     "execution_count": 10,
     "metadata": {},
     "output_type": "execute_result"
    }
   ],
   "source": [
    "salary_data.describe()"
   ]
  },
  {
   "cell_type": "markdown",
   "id": "6e7f62e0",
   "metadata": {},
   "source": [
    "Information about the datase"
   ]
  },
  {
   "cell_type": "code",
   "execution_count": 11,
   "id": "63d782be",
   "metadata": {},
   "outputs": [
    {
     "name": "stdout",
     "output_type": "stream",
     "text": [
      "<class 'pandas.core.frame.DataFrame'>\n",
      "RangeIndex: 10 entries, 0 to 9\n",
      "Data columns (total 2 columns):\n",
      " #   Column  Non-Null Count  Dtype\n",
      "---  ------  --------------  -----\n",
      " 0   Level   10 non-null     int64\n",
      " 1   Salary  10 non-null     int64\n",
      "dtypes: int64(2)\n",
      "memory usage: 292.0 bytes\n"
     ]
    }
   ],
   "source": [
    "salary_data.info()"
   ]
  },
  {
   "cell_type": "markdown",
   "id": "fe6211a3",
   "metadata": {},
   "source": [
    "Cheking the missing the values"
   ]
  },
  {
   "cell_type": "code",
   "execution_count": 12,
   "id": "40247799",
   "metadata": {},
   "outputs": [
    {
     "data": {
      "text/plain": [
       "Level     0\n",
       "Salary    0\n",
       "dtype: int64"
      ]
     },
     "execution_count": 12,
     "metadata": {},
     "output_type": "execute_result"
    }
   ],
   "source": [
    "salary_data.isnull().sum()"
   ]
  },
  {
   "cell_type": "code",
   "execution_count": 22,
   "id": "1b61bb7b",
   "metadata": {},
   "outputs": [
    {
     "data": {
      "text/plain": [
       "<matplotlib.collections.PathCollection at 0x225e5ea8d90>"
      ]
     },
     "execution_count": 22,
     "metadata": {},
     "output_type": "execute_result"
    },
    {
     "data": {
      "image/png": "[encoded data removed]",
      "text/plain": [
       "<Figure size 640x480 with 1 Axes>"
      ]
     },
     "metadata": {},
     "output_type": "display_data"
    }
   ],
   "source": [
    "plt.scatter(x,y,color=\"blue\")"
   ]
  },
  {
   "cell_type": "markdown",
   "id": "a6d81738",
   "metadata": {},
   "source": [
    "We are comparing here two Regression model Linear Regression & Polynomial Regression"
   ]
  },
  {
   "cell_type": "markdown",
   "id": "6896c117",
   "metadata": {},
   "source": [
    "Training the Linear model Regression on the whole dataset"
   ]
  },
  {
   "cell_type": "code",
   "execution_count": 13,
   "id": "0179613b",
   "metadata": {},
   "outputs": [
    {
     "name": "stdout",
     "output_type": "stream",
     "text": [
      "Model is Loaded\n"
     ]
    }
   ],
   "source": [
    "lin_model = LinearRegression()\n",
    "print(\"Model is Loaded\")"
   ]
  },
  {
   "cell_type": "code",
   "execution_count": 14,
   "id": "84c5e9cc",
   "metadata": {},
   "outputs": [
    {
     "name": "stdout",
     "output_type": "stream",
     "text": [
      "Model is Trained\n"
     ]
    }
   ],
   "source": [
    "lin_model_fitted = lin_model.fit(x,y)\n",
    "print(\"Model is Trained\")"
   ]
  },
  {
   "cell_type": "code",
   "execution_count": 15,
   "id": "9dd49373",
   "metadata": {},
   "outputs": [],
   "source": [
    "lin_model_pred = lin_model_fitted.predict(x)"
   ]
  },
  {
   "cell_type": "code",
   "execution_count": 16,
   "id": "48728091",
   "metadata": {},
   "outputs": [
    {
     "data": {
      "text/plain": [
       "array([[-114454.54545455],\n",
       "       [ -33575.75757576],\n",
       "       [  47303.03030303],\n",
       "       [ 128181.81818182],\n",
       "       [ 209060.60606061],\n",
       "       [ 289939.39393939],\n",
       "       [ 370818.18181818],\n",
       "       [ 451696.96969697],\n",
       "       [ 532575.75757576],\n",
       "       [ 613454.54545455]])"
      ]
     },
     "execution_count": 16,
     "metadata": {},
     "output_type": "execute_result"
    }
   ],
   "source": [
    "lin_model_pred"
   ]
  },
  {
   "cell_type": "code",
   "execution_count": 21,
   "id": "efcc1375",
   "metadata": {},
   "outputs": [
    {
     "data": {
      "text/plain": [
       "[<matplotlib.lines.Line2D at 0x225e5eb8c90>]"
      ]
     },
     "execution_count": 21,
     "metadata": {},
     "output_type": "execute_result"
    },
    {
     "data": {
      "image/png": "[encoded data removed]",
      "text/plain": [
       "<Figure size 500x300 with 1 Axes>"
      ]
     },
     "metadata": {},
     "output_type": "display_data"
    }
   ],
   "source": [
    "plt.figure(figsize=(5,3))\n",
    "plt.scatter(x,y,color=\"blue\")\n",
    "plt.plot(x,lin_model_pred,color=\"red\")"
   ]
  },
  {
   "cell_type": "markdown",
   "id": "616c3e2b",
   "metadata": {},
   "source": [
    "Training the polynomial model on the whole dataset"
   ]
  },
  {
   "cell_type": "code",
   "execution_count": 24,
   "id": "c738d171",
   "metadata": {},
   "outputs": [
    {
     "name": "stdout",
     "output_type": "stream",
     "text": [
      "Loaded the Polynomial feature Model\n"
     ]
    }
   ],
   "source": [
    "poly_model = PolynomialFeatures(degree=3)\n",
    "print(\"Loaded the Polynomial feature Model\")"
   ]
  },
  {
   "cell_type": "code",
   "execution_count": 25,
   "id": "b6a49a27",
   "metadata": {},
   "outputs": [
    {
     "name": "stdout",
     "output_type": "stream",
     "text": [
      "[[   1.    1.    1.    1.]\n",
      " [   1.    2.    4.    8.]\n",
      " [   1.    3.    9.   27.]\n",
      " [   1.    4.   16.   64.]\n",
      " [   1.    5.   25.  125.]\n",
      " [   1.    6.   36.  216.]\n",
      " [   1.    7.   49.  343.]\n",
      " [   1.    8.   64.  512.]\n",
      " [   1.    9.   81.  729.]\n",
      " [   1.   10.  100. 1000.]]\n"
     ]
    }
   ],
   "source": [
    "x_poly = poly_model.fit_transform(x)\n",
    "print(x_poly)"
   ]
  },
  {
   "cell_type": "code",
   "execution_count": 27,
   "id": "8396a501",
   "metadata": {},
   "outputs": [
    {
     "name": "stdout",
     "output_type": "stream",
     "text": [
      "Model is Trained\n"
     ]
    }
   ],
   "source": [
    "poly_model_fitted = poly_model.fit(x_poly,y)\n",
    "print(\"Model is Trained\")"
   ]
  },
  {
   "cell_type": "code",
   "execution_count": 28,
   "id": "f4ee1c35",
   "metadata": {},
   "outputs": [],
   "source": [
    "lin2_model = LinearRegression()"
   ]
  },
  {
   "cell_type": "code",
   "execution_count": 29,
   "id": "fde97f04",
   "metadata": {},
   "outputs": [
    {
     "name": "stdout",
     "output_type": "stream",
     "text": [
      "Model is Trained\n"
     ]
    }
   ],
   "source": [
    "lin2_model_fitted = lin2_model.fit(x_poly,y)\n",
    "print(\"Model is Trained\")"
   ]
  },
  {
   "cell_type": "code",
   "execution_count": 30,
   "id": "d2e231ed",
   "metadata": {},
   "outputs": [],
   "source": [
    "lin2_model_pred = lin2_model_fitted.predict(x_poly)"
   ]
  },
  {
   "cell_type": "code",
   "execution_count": 33,
   "id": "8e62d5d5",
   "metadata": {},
   "outputs": [
    {
     "data": {
      "text/plain": [
       "[<matplotlib.lines.Line2D at 0x225e63b8c90>]"
      ]
     },
     "execution_count": 33,
     "metadata": {},
     "output_type": "execute_result"
    },
    {
     "data": {
      "image/png": "[encoded data removed]",
      "text/plain": [
       "<Figure size 500x300 with 1 Axes>"
      ]
     },
     "metadata": {},
     "output_type": "display_data"
    }
   ],
   "source": [
    "plt.figure(figsize=(5,3))\n",
    "plt.scatter(x,y,color=\"blue\")\n",
    "plt.plot(x,lin2_model_pred,color=\"red\")"
   ]
  },
  {
   "cell_type": "markdown",
   "id": "09e3ce33",
   "metadata": {},
   "source": [
    "Checking the Accuracy of Linear Regression"
   ]
  },
  {
   "cell_type": "code",
   "execution_count": 35,
   "id": "f2ffe256",
   "metadata": {},
   "outputs": [
    {
     "name": "stdout",
     "output_type": "stream",
     "text": [
      "0.6690412331929895\n"
     ]
    }
   ],
   "source": [
    "acc_lin_model = r2_score(y,lin_model_pred)\n",
    "print(acc_lin_model)"
   ]
  },
  {
   "cell_type": "markdown",
   "id": "6948f8fc",
   "metadata": {},
   "source": [
    "Checking the Accuracy of Polynomial Regression"
   ]
  },
  {
   "cell_type": "code",
   "execution_count": 36,
   "id": "9d34f369",
   "metadata": {},
   "outputs": [
    {
     "name": "stdout",
     "output_type": "stream",
     "text": [
      "0.9812097727913366\n"
     ]
    }
   ],
   "source": [
    "acc_lin2_model = r2_score(y,lin2_model_pred)\n",
    "print(acc_lin2_model)"
   ]
  },
  {
   "cell_type": "code",
   "execution_count": null,
   "id": "9237af3f",
   "metadata": {},
   "outputs": [],
   "source": []
  }
 ],
 "metadata": {
  "kernelspec": {
   "display_name": "Python 3 (ipykernel)",
   "language": "python",
   "name": "python3"
  },
  "language_info": {
   "codemirror_mode": {
    "name": "ipython",
    "version": 3
   },
   "file_extension": ".py",
   "mimetype": "text/x-python",
   "name": "python",
   "nbconvert_exporter": "python",
   "pygments_lexer": "ipython3",
   "version": "3.11.4"
  }
 },
 "nbformat": 4,
 "nbformat_minor": 5
}
